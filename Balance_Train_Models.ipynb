{
 "cells": [
  {
   "cell_type": "markdown",
   "id": "2423bfde",
   "metadata": {},
   "source": [
    "# Train models based on balanced dataset\n",
    "## Read the dataset\n",
    "The here used dataset is a version with selected features based on the EDA and feature selection. See EDA_Feature_Selection notebook for the reasoning of choices made."
   ]
  },
  {
   "cell_type": "code",
   "execution_count": 12,
   "id": "ddaf0127",
   "metadata": {},
   "outputs": [],
   "source": [
    "import pandas as pd\n",
    "import numpy as np\n",
    "\n",
    "from matplotlib import pyplot as plt\n",
    "import seaborn as sns\n",
    "\n",
    "from sklearn.linear_model import LogisticRegression\n",
    "from xgboost import XGBClassifier\n",
    "from sklearn.model_selection import train_test_split\n",
    "from sklearn.preprocessing import StandardScaler\n",
    "from sklearn.metrics import classification_report, accuracy_score, confusion_matrix\n",
    "from imblearn.over_sampling import SMOTE"
   ]
  },
  {
   "cell_type": "code",
   "execution_count": 13,
   "id": "277495a8",
   "metadata": {},
   "outputs": [
    {
     "data": {
      "text/html": [
       "<div>\n",
       "<style scoped>\n",
       "    .dataframe tbody tr th:only-of-type {\n",
       "        vertical-align: middle;\n",
       "    }\n",
       "\n",
       "    .dataframe tbody tr th {\n",
       "        vertical-align: top;\n",
       "    }\n",
       "\n",
       "    .dataframe thead th {\n",
       "        text-align: right;\n",
       "    }\n",
       "</style>\n",
       "<table border=\"1\" class=\"dataframe\">\n",
       "  <thead>\n",
       "    <tr style=\"text-align: right;\">\n",
       "      <th></th>\n",
       "      <th>MDVP:Fo(Hz)</th>\n",
       "      <th>MDVP:Fhi(Hz)</th>\n",
       "      <th>MDVP:Flo(Hz)</th>\n",
       "      <th>MDVP:Jitter(Abs)</th>\n",
       "      <th>HNR</th>\n",
       "      <th>RPDE</th>\n",
       "      <th>D2</th>\n",
       "      <th>DFA</th>\n",
       "      <th>spread2</th>\n",
       "      <th>status</th>\n",
       "    </tr>\n",
       "  </thead>\n",
       "  <tbody>\n",
       "    <tr>\n",
       "      <th>0</th>\n",
       "      <td>119.992</td>\n",
       "      <td>157.302</td>\n",
       "      <td>74.997</td>\n",
       "      <td>0.00007</td>\n",
       "      <td>21.033</td>\n",
       "      <td>0.414783</td>\n",
       "      <td>2.301442</td>\n",
       "      <td>0.815285</td>\n",
       "      <td>0.266482</td>\n",
       "      <td>1</td>\n",
       "    </tr>\n",
       "    <tr>\n",
       "      <th>1</th>\n",
       "      <td>122.400</td>\n",
       "      <td>148.650</td>\n",
       "      <td>113.819</td>\n",
       "      <td>0.00008</td>\n",
       "      <td>19.085</td>\n",
       "      <td>0.458359</td>\n",
       "      <td>2.486855</td>\n",
       "      <td>0.819521</td>\n",
       "      <td>0.335590</td>\n",
       "      <td>1</td>\n",
       "    </tr>\n",
       "    <tr>\n",
       "      <th>2</th>\n",
       "      <td>116.682</td>\n",
       "      <td>131.111</td>\n",
       "      <td>111.555</td>\n",
       "      <td>0.00009</td>\n",
       "      <td>20.651</td>\n",
       "      <td>0.429895</td>\n",
       "      <td>2.342259</td>\n",
       "      <td>0.825288</td>\n",
       "      <td>0.311173</td>\n",
       "      <td>1</td>\n",
       "    </tr>\n",
       "    <tr>\n",
       "      <th>3</th>\n",
       "      <td>116.676</td>\n",
       "      <td>137.871</td>\n",
       "      <td>111.366</td>\n",
       "      <td>0.00009</td>\n",
       "      <td>20.644</td>\n",
       "      <td>0.434969</td>\n",
       "      <td>2.405554</td>\n",
       "      <td>0.819235</td>\n",
       "      <td>0.334147</td>\n",
       "      <td>1</td>\n",
       "    </tr>\n",
       "    <tr>\n",
       "      <th>4</th>\n",
       "      <td>116.014</td>\n",
       "      <td>141.781</td>\n",
       "      <td>110.655</td>\n",
       "      <td>0.00011</td>\n",
       "      <td>19.649</td>\n",
       "      <td>0.417356</td>\n",
       "      <td>2.332180</td>\n",
       "      <td>0.823484</td>\n",
       "      <td>0.234513</td>\n",
       "      <td>1</td>\n",
       "    </tr>\n",
       "  </tbody>\n",
       "</table>\n",
       "</div>"
      ],
      "text/plain": [
       "   MDVP:Fo(Hz)  MDVP:Fhi(Hz)  MDVP:Flo(Hz)  MDVP:Jitter(Abs)     HNR  \\\n",
       "0      119.992       157.302        74.997           0.00007  21.033   \n",
       "1      122.400       148.650       113.819           0.00008  19.085   \n",
       "2      116.682       131.111       111.555           0.00009  20.651   \n",
       "3      116.676       137.871       111.366           0.00009  20.644   \n",
       "4      116.014       141.781       110.655           0.00011  19.649   \n",
       "\n",
       "       RPDE        D2       DFA   spread2  status  \n",
       "0  0.414783  2.301442  0.815285  0.266482       1  \n",
       "1  0.458359  2.486855  0.819521  0.335590       1  \n",
       "2  0.429895  2.342259  0.825288  0.311173       1  \n",
       "3  0.434969  2.405554  0.819235  0.334147       1  \n",
       "4  0.417356  2.332180  0.823484  0.234513       1  "
      ]
     },
     "execution_count": 13,
     "metadata": {},
     "output_type": "execute_result"
    }
   ],
   "source": [
    "df = pd.read_csv('parkinson_feature_selection.csv')\n",
    "df = df.iloc[: , 1:]\n",
    "df.head()"
   ]
  },
  {
   "cell_type": "markdown",
   "id": "61f87f5e",
   "metadata": {},
   "source": [
    "## Prepare the data"
   ]
  },
  {
   "cell_type": "code",
   "execution_count": 16,
   "id": "30a75065",
   "metadata": {},
   "outputs": [
    {
     "data": {
      "text/plain": [
       "(195, 9)"
      ]
     },
     "execution_count": 16,
     "metadata": {},
     "output_type": "execute_result"
    }
   ],
   "source": [
    "# store target variable y\n",
    "y = df.status.values\n",
    "\n",
    "# create feature matrix\n",
    "X = np.array(df.loc[ : , df.columns != 'status']) # these are the features (matrix)\n",
    "X.shape"
   ]
  },
  {
   "cell_type": "code",
   "execution_count": 17,
   "id": "41fcaa5a",
   "metadata": {},
   "outputs": [],
   "source": [
    "# Normalize the data\n",
    "def normalize(X):\n",
    "    scaler = StandardScaler()\n",
    "    scaler = scaler.fit(X)\n",
    "    X = scaler.transform(X)\n",
    "    return X\n",
    "\n",
    "X = normalize(X)"
   ]
  },
  {
   "cell_type": "markdown",
   "id": "4446b17f",
   "metadata": {},
   "source": [
    "## Conduct group balancing\n",
    "\n",
    "There are two options to balance the groups:\n",
    "- undersampling: reduce samples in the majority class \n",
    "- oversampling: increase number of samples in the minority class \n",
    "Undersampling may discard a lot of information while oversampling might be a costly task to conduct. Undersampling could be conducted using TOMEK technique, which picks quite close data points from opposite classes (pairs) and discards the points from each pair which belongs to the majority class. Here this would lead to loss of a lot of data so oversampling is prefered. Here conducted is the SMOTE technique, which measures the distances between the minority class and creates synthetic observations inbetween adjacent observations from the minority class [https://www.analyticsvidhya.com/blog/2020/07/10-techniques-to-deal-with-class-imbalance-in-machine-learning/]."
   ]
  },
  {
   "cell_type": "code",
   "execution_count": 18,
   "id": "3630b465",
   "metadata": {},
   "outputs": [],
   "source": [
    "def make_barplot(y):\n",
    "    ar_unique, counts = np.unique(y, return_counts = True)\n",
    "    plt.bar(ar_unique, counts)\n",
    "    plt.show()\n",
    "    print(counts)"
   ]
  },
  {
   "cell_type": "code",
   "execution_count": 19,
   "id": "fb456b80",
   "metadata": {},
   "outputs": [
    {
     "name": "stdout",
     "output_type": "stream",
     "text": [
      "Original dataset shape (195,)\n"
     ]
    },
    {
     "data": {
      "image/png": "[encoded data removed]",
      "text/plain": [
       "<Figure size 432x288 with 1 Axes>"
      ]
     },
     "metadata": {
      "needs_background": "light"
     },
     "output_type": "display_data"
    },
    {
     "name": "stdout",
     "output_type": "stream",
     "text": [
      "[ 48 147]\n",
      "Resample dataset shape (294,)\n"
     ]
    },
    {
     "data": {
      "image/png": "[encoded data removed]",
      "text/plain": [
       "<Figure size 432x288 with 1 Axes>"
      ]
     },
     "metadata": {
      "needs_background": "light"
     },
     "output_type": "display_data"
    },
    {
     "name": "stdout",
     "output_type": "stream",
     "text": [
      "[147 147]\n"
     ]
    }
   ],
   "source": [
    "# build smote model\n",
    "smote = SMOTE()\n",
    "\n",
    "# fit predictor and target variable\n",
    "x_smote, y_smote = smote.fit_resample(X, y)\n",
    "\n",
    "# print the original data shape\n",
    "print('Original dataset shape', y.shape)\n",
    "make_barplot(y)\n",
    "\n",
    "# print resampled data shape\n",
    "print('Resample dataset shape', y_smote.shape)\n",
    "make_barplot(y_smote)"
   ]
  },
  {
   "cell_type": "markdown",
   "id": "ad96911b",
   "metadata": {},
   "source": [
    "# Built models"
   ]
  },
  {
   "cell_type": "code",
   "execution_count": 20,
   "id": "80c29c02",
   "metadata": {},
   "outputs": [],
   "source": [
    "# split the data\n",
    "X_train, X_test, y_train, y_test = train_test_split(x_smote, y_smote, test_size = .3, random_state=42)"
   ]
  },
  {
   "cell_type": "code",
   "execution_count": 22,
   "id": "8d447f4f",
   "metadata": {},
   "outputs": [
    {
     "name": "stdout",
     "output_type": "stream",
     "text": [
      "Accuracy score: 0.797752808988764\n",
      "Confusion matrix: [[35  4]\n",
      " [14 36]]\n"
     ]
    }
   ],
   "source": [
    "# logistic regression\n",
    "# train the model\n",
    "logreg = LogisticRegression()\n",
    "history = logreg.fit(X_train, y_train)\n",
    "y_pred = logreg.predict(X_test)\n",
    "print('Accuracy score:', accuracy_score(y_pred, y_test))\n",
    "\n",
    "print('Confusion matrix:', confusion_matrix(y_test,y_pred))"
   ]
  },
  {
   "cell_type": "code",
   "execution_count": 23,
   "id": "c3680aa5",
   "metadata": {},
   "outputs": [
    {
     "name": "stdout",
     "output_type": "stream",
     "text": [
      "[17:01:49] WARNING: ..\\src\\learner.cc:1115: Starting in XGBoost 1.3.0, the default evaluation metric used with the objective 'binary:logistic' was changed from 'error' to 'logloss'. Explicitly set eval_metric if you'd like to restore the old behavior.\n",
      "Accuracy score: 0.9213483146067416\n",
      "Confusion matrix: [[39  0]\n",
      " [ 7 43]]\n"
     ]
    },
    {
     "name": "stderr",
     "output_type": "stream",
     "text": [
      "C:\\Users\\chiar\\anaconda3\\lib\\site-packages\\xgboost\\sklearn.py:1224: UserWarning: The use of label encoder in XGBClassifier is deprecated and will be removed in a future release. To remove this warning, do the following: 1) Pass option use_label_encoder=False when constructing XGBClassifier object; and 2) Encode your labels (y) as integers starting with 0, i.e. 0, 1, 2, ..., [num_class - 1].\n",
      "  warnings.warn(label_encoder_deprecation_msg, UserWarning)\n"
     ]
    }
   ],
   "source": [
    "#xgboost classifier\n",
    "xgb_model = XGBClassifier().fit(X_train, y_train)\n",
    "\n",
    "# predict\n",
    "xgb_y_predict = xgb_model.predict(X_test)\n",
    "\n",
    "# accuracy score\n",
    "print('Accuracy score:', accuracy_score(xgb_y_predict, y_test))\n",
    "\n",
    "print('Confusion matrix:', confusion_matrix(y_test,xgb_y_predict))"
   ]
  },
  {
   "cell_type": "code",
   "execution_count": null,
   "id": "5ac0a80e",
   "metadata": {},
   "outputs": [],
   "source": []
  }
 ],
 "metadata": {
  "kernelspec": {
   "display_name": "machine_learning_env",
   "language": "python",
   "name": "machine_learning_env"
  },
  "language_info": {
   "codemirror_mode": {
    "name": "ipython",
    "version": 3
   },
   "file_extension": ".py",
   "mimetype": "text/x-python",
   "name": "python",
   "nbconvert_exporter": "python",
   "pygments_lexer": "ipython3",
   "version": "3.9.12"
  }
 },
 "nbformat": 4,
 "nbformat_minor": 5
}
