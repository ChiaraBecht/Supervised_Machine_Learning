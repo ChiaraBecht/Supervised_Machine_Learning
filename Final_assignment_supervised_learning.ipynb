{
 "cells": [
  {
   "cell_type": "markdown",
   "id": "53a91211",
   "metadata": {},
   "source": [
    "# Final assigment Supervised Learning\n",
    "\n",
    "## Frame the problem\n",
    "Dysphonic disorders can arise from several pathological processes. In parkinsons diseases dysphonia occurs often (70%) due to the affect of the basal ganglia on the laryngeal muscles. Dysphonia massively impacts the quality of life. \n",
    "\n",
    "Parkinsons diseases is caused by the cell death of melanin-containing dopaminergic neurons. These neurons are mainly found in the substantia nigra (brain region in the central brain, between brain stem and bridge). The cell death of the dopaminergic neurons leads to dysfunction of basal ganglia and reduced inhibition of dopaminergic controlled processes (e.g. regulation of laryngeal tension, conotrol of movement muscles). Currently, Parkinsons diseases is diagnosed through the appearance of the trias of symptoms rigidity, tremor and bradykinesia (slowness of movements) and verified by detecting the cell atrophy in the substantia nigra through MRI scanning. \n",
    "\n",
    "Since MRI scanning is an expensive diagnosis technique, alternative approaches are desirable. The previously mentioned dysphonia, arising from the altered laryngeal regulation is measurable via voice recordings. Here, we aim to build a model, which can classify subjects based on voice recordings (and the related features) into Healthy subjects and parkinson patients. Using voice recordings for diagnostics could simplify the diagnosis in several ways:\n",
    "- every GP can make recordings and providing GPs with the model wrapped in a user-friendly software, every GP has a tool to support Parkinson diagnostics \n",
    "- patients could be sent to radiology centers prioritized based on the voice recording classification\n",
    "\n",
    "For the chosen project, a labeled dataset is available (see data source and paper here), which makes it a supervised learning problem. The model will be trained and launched as batch learning model.  The quality of the model will be assessed using ....\n",
    "\n",
    "Accuracy should be: \n",
    "Sensitivity should be:\n",
    "Specificity should be: \n",
    "\n",
    "It is more acceptable to have false positive classifications (can be detected when conducting MRI scanning)  than false negative classificiations (the earlier the diagnosis the better the prognosis).\n",
    "\n",
    "Assumptions:"
   ]
  },
  {
   "cell_type": "markdown",
   "id": "85ccdee8",
   "metadata": {},
   "source": [
    "The outcome variable is very skewed towards the parkinson class. A model, which would always predict the bigger class (Parkinson disease) would be correct in about 75% of all cases. A balancing of groups seems to be necessary. Splitting the dataset into training and test set could contain nearby no data from the group 0 under unfortunate circumstances."
   ]
  },
  {
   "cell_type": "markdown",
   "id": "36d3c76f",
   "metadata": {},
   "source": [
    "There are two options to balance the groups:\n",
    "\n",
    "undersampling: reduce samples in the majority class\n",
    "oversampling: increase number of samples in the minority class Undersampling may discard a lot of information while oversampling might be a costly task to conduct. Undersampling could be conducted using TOMEK technique, which picks quite close data points from opposite classes (pairs) and discards the points from each pair which belongs to the majority class. Here this would lead to loss of a lot of data so oversampling is prefered. Here conducted is the SMOTE technique, which measures the distances between the minority class and creates synthetic observations inbetween adjacent observations from the minority class [https://www.analyticsvidhya.com/blog/2020/07/10-techniques-to-deal-with-class-imbalance-in-machine-learning/]."
   ]
  }
 ],
 "metadata": {
  "kernelspec": {
   "display_name": "machine_learning_env",
   "language": "python",
   "name": "machine_learning_env"
  },
  "language_info": {
   "codemirror_mode": {
    "name": "ipython",
    "version": 3
   },
   "file_extension": ".py",
   "mimetype": "text/x-python",
   "name": "python",
   "nbconvert_exporter": "python",
   "pygments_lexer": "ipython3",
   "version": "3.9.12"
  }
 },
 "nbformat": 4,
 "nbformat_minor": 5
}
